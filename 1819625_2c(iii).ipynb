{
  "nbformat": 4,
  "nbformat_minor": 0,
  "metadata": {
    "colab": {
      "provenance": []
    },
    "kernelspec": {
      "name": "python3",
      "display_name": "Python 3"
    },
    "language_info": {
      "name": "python"
    },
    "accelerator": "GPU",
    "gpuClass": "standard"
  },
  "cells": [
    {
      "cell_type": "code",
      "execution_count": 1,
      "metadata": {
        "id": "hEO8gh8EH3MP"
      },
      "outputs": [],
      "source": [
        "import os\n",
        "\n",
        "#Numpy is linear algebra lbrary\n",
        "import numpy as np\n",
        "# Matplotlib is a visualizations library \n",
        "import matplotlib.pyplot as plt\n",
        "import torch\n",
        "import torch.nn as nn\n",
        "import torch.optim as optim\n",
        "import torchvision\n",
        "import torchvision.transforms as transforms"
      ]
    },
    {
      "cell_type": "code",
      "source": [
        "from google.colab import drive\n",
        "drive.mount('/content/gdrive')"
      ],
      "metadata": {
        "colab": {
          "base_uri": "https://localhost:8080/"
        },
        "id": "c358O_EEI-zk",
        "outputId": "164372d4-f839-4f29-fdb9-3d7891c92b0f"
      },
      "execution_count": 2,
      "outputs": [
        {
          "output_type": "stream",
          "name": "stdout",
          "text": [
            "Mounted at /content/gdrive\n"
          ]
        }
      ]
    },
    {
      "cell_type": "code",
      "source": [
        "# Data Loader\n",
        "transform = transforms.Compose(\n",
        "    [   transforms.Resize((32,32)),\n",
        "        transforms.ToTensor(),\n",
        "        transforms.Normalize((0.5), (0.5)),\n",
        "        transforms.Grayscale(num_output_channels=1) ])"
      ],
      "metadata": {
        "id": "MhnuqxqmH9ol"
      },
      "execution_count": 3,
      "outputs": []
    },
    {
      "cell_type": "code",
      "source": [
        "batch_size = 32\n",
        "\n",
        "\n",
        "dataset = '/content/gdrive/My Drive/Covid19-dataset'\n",
        "\n",
        "train_directory = os.path.join(dataset, 'train')\n",
        "test_directory = os.path.join(dataset, 'test')\n",
        "\n",
        "\n",
        "trainset = torchvision.datasets.ImageFolder(root=train_directory, transform=transform)\n",
        "trainloader = torch.utils.data.DataLoader(trainset, batch_size=batch_size, shuffle=True)\n",
        "\n",
        "testset = torchvision.datasets.ImageFolder(root=test_directory, transform=transform)\n",
        "testloader = torch.utils.data.DataLoader(testset, batch_size=batch_size, shuffle=True)\n",
        "\n",
        "classes = ('Normal', 'Covid', 'Viral Pneumonia')"
      ],
      "metadata": {
        "id": "qVkcGmNIIF4G"
      },
      "execution_count": 4,
      "outputs": []
    },
    {
      "cell_type": "code",
      "source": [
        "train_data_size = len(trainloader.dataset)\n",
        "test_data_size = len(testloader.dataset)\n",
        "\n",
        "print(train_data_size)\n",
        "print(test_data_size)"
      ],
      "metadata": {
        "colab": {
          "base_uri": "https://localhost:8080/"
        },
        "id": "_ieM8x80INNH",
        "outputId": "976b87c3-7665-451b-921f-651c947c9580"
      },
      "execution_count": 5,
      "outputs": [
        {
          "output_type": "stream",
          "name": "stdout",
          "text": [
            "251\n",
            "66\n"
          ]
        }
      ]
    },
    {
      "cell_type": "code",
      "execution_count": 6,
      "metadata": {
        "id": "dCooW-98BU9Q"
      },
      "outputs": [],
      "source": [
        "class CNN(nn.Module):\n",
        "    def __init__(self):\n",
        "        super(CNN, self).__init__()\n",
        "        self.conv1 = nn.Conv2d(1, 6, 5, 1)\n",
        "        self.pool1 = nn.MaxPool2d(2, 2)\n",
        "        self.conv2 = nn.Conv2d(6, 16, 5, 1)\n",
        "        self.pool2 = nn.MaxPool2d(2, 2)\n",
        "        self.fc1 = nn.Linear(400, 120)\n",
        "        self.fc2 = nn.Linear(120, 10)\n",
        "        self.relu = nn.ReLU()\n",
        "\n",
        "    def forward(self, x):\n",
        "        x = self.pool1(self.relu(self.conv1(x)))\n",
        "        x = self.pool2(self.relu(self.conv2(x)))\n",
        "        x = x.view(-1, 400)\n",
        "        x = self.relu(self.fc1(x))\n",
        "        x = self.fc2(x) \n",
        "        return x\n"
      ]
    },
    {
      "cell_type": "code",
      "execution_count": 7,
      "metadata": {
        "colab": {
          "base_uri": "https://localhost:8080/"
        },
        "id": "PfEXt-IrBU9R",
        "outputId": "24e24399-e229-4499-a0f9-ef0b1ccc5dc4"
      },
      "outputs": [
        {
          "output_type": "execute_result",
          "data": {
            "text/plain": [
              "CNN(\n",
              "  (conv1): Conv2d(1, 6, kernel_size=(5, 5), stride=(1, 1))\n",
              "  (pool1): MaxPool2d(kernel_size=2, stride=2, padding=0, dilation=1, ceil_mode=False)\n",
              "  (conv2): Conv2d(6, 16, kernel_size=(5, 5), stride=(1, 1))\n",
              "  (pool2): MaxPool2d(kernel_size=2, stride=2, padding=0, dilation=1, ceil_mode=False)\n",
              "  (fc1): Linear(in_features=400, out_features=120, bias=True)\n",
              "  (fc2): Linear(in_features=120, out_features=10, bias=True)\n",
              "  (relu): ReLU()\n",
              ")"
            ]
          },
          "metadata": {},
          "execution_count": 7
        }
      ],
      "source": [
        "model = CNN() # need to instantiate the network to be used in instance method\n",
        "\n",
        "# 2. LOSS AND OPTIMIZER\n",
        "criterion = nn.CrossEntropyLoss()\n",
        "optimizer = optim.SGD(model.parameters(), lr=0.001, momentum=0.9)\n",
        "\n",
        "# 3. move the model to GPU\n",
        "device = torch.device('cuda:0' if torch.cuda.is_available() else 'cpu')\n",
        "model.to(device)"
      ]
    },
    {
      "cell_type": "code",
      "source": [
        "torch.backends.cudnn.enabled = False"
      ],
      "metadata": {
        "id": "nmBZqmYPU3bg"
      },
      "execution_count": 8,
      "outputs": []
    },
    {
      "cell_type": "code",
      "source": [
        "import time # to calculate training time\n",
        "\n",
        "def train_and_validate(model, loss_criterion, optimizer, epochs=25):\n",
        "    '''\n",
        "    Function to train and validate\n",
        "    Parameters\n",
        "        :param model: Model to train and validate\n",
        "        :param loss_criterion: Loss Criterion to minimize\n",
        "        :param optimizer: Optimizer for computing gradients\n",
        "        :param epochs: Number of epochs (default=25)\n",
        "  \n",
        "    Returns\n",
        "        model: Trained Model with best validation accuracy\n",
        "        history: (dict object): Having training loss, accuracy and validation loss, accuracy\n",
        "    '''\n",
        "    \n",
        "    start = time.time()\n",
        "    history = []\n",
        "    best_acc = 0.0\n",
        "\n",
        "    for epoch in range(epochs):\n",
        "        epoch_start = time.time()\n",
        "        print(\"Epoch: {}/{}\".format(epoch+1, epochs))\n",
        "        \n",
        "        # Set to training mode\n",
        "        model.train()\n",
        "        \n",
        "        # Loss and Accuracy within the epoch\n",
        "        train_loss = 0.0\n",
        "        train_acc = 0.0\n",
        "        \n",
        "        valid_loss = 0.0\n",
        "        valid_acc = 0.0\n",
        "        \n",
        "        for i, (inputs, labels) in enumerate(trainloader):\n",
        "\n",
        "            inputs = inputs.to(device)\n",
        "            labels = labels.to(device)\n",
        "            \n",
        "            # Clean existing gradients\n",
        "            optimizer.zero_grad()\n",
        "            \n",
        "            # Forward pass - compute outputs on input data using the model\n",
        "            outputs = model(inputs)\n",
        "            \n",
        "            # Compute loss\n",
        "            loss = loss_criterion(outputs, labels)\n",
        "            \n",
        "            # Backpropagate the gradients\n",
        "            loss.backward()\n",
        "            \n",
        "            # Update the parameters\n",
        "            optimizer.step()\n",
        "            \n",
        "            # Compute the total loss for the batch and add it to train_loss\n",
        "            train_loss += loss.item() * inputs.size(0)\n",
        "            \n",
        "            # Compute the accuracy\n",
        "            ret, predictions = torch.max(outputs.data, 1)\n",
        "            correct_counts = predictions.eq(labels.data.view_as(predictions))\n",
        "            \n",
        "            # Convert correct_counts to float and then compute the mean\n",
        "            acc = torch.mean(correct_counts.type(torch.FloatTensor))\n",
        "            \n",
        "            # Compute total accuracy in the whole batch and add to train_acc\n",
        "            train_acc += acc.item() * inputs.size(0)\n",
        "            \n",
        "            #print(\"Batch number: {:03d}, Training: Loss: {:.4f}, Accuracy: {:.4f}\".format(i, loss.item(), acc.item()))\n",
        "\n",
        "            \n",
        "        # Validation - No gradient tracking needed\n",
        "        with torch.no_grad():\n",
        "\n",
        "            # Set to evaluation mode\n",
        "            model.eval()\n",
        "\n",
        "            # Validation loop\n",
        "            for j, (inputs, labels) in enumerate(testloader):\n",
        "                inputs = inputs.to(device)\n",
        "                labels = labels.to(device)\n",
        "\n",
        "                # Forward pass - compute outputs on input data using the model\n",
        "                outputs = model(inputs)\n",
        "\n",
        "                # Compute loss\n",
        "                loss = loss_criterion(outputs, labels)\n",
        "\n",
        "                # Compute the total loss for the batch and add it to valid_loss\n",
        "                valid_loss += loss.item() * inputs.size(0)\n",
        "\n",
        "                # Calculate validation accuracy\n",
        "                ret, predictions = torch.max(outputs.data, 1)\n",
        "                correct_counts = predictions.eq(labels.data.view_as(predictions))\n",
        "\n",
        "                # Convert correct_counts to float and then compute the mean\n",
        "                acc = torch.mean(correct_counts.type(torch.FloatTensor))\n",
        "\n",
        "                # Compute total accuracy in the whole batch and add to valid_acc\n",
        "                valid_acc += acc.item() * inputs.size(0)\n",
        "\n",
        "                #print(\"Validation Batch number: {:03d}, Validation: Loss: {:.4f}, Accuracy: {:.4f}\".format(j, loss.item(), acc.item()))\n",
        "            \n",
        "        # Find average training loss and training accuracy\n",
        "        avg_train_loss = train_loss/train_data_size \n",
        "        avg_train_acc = train_acc/train_data_size\n",
        "\n",
        "        # Find average training loss and training accuracy\n",
        "        avg_test_loss = valid_loss/test_data_size \n",
        "        avg_test_acc = valid_acc/test_data_size\n",
        "\n",
        "        history.append([avg_train_loss, avg_test_loss, avg_train_acc, avg_test_acc])\n",
        "                \n",
        "        epoch_end = time.time()\n",
        "    \n",
        "        print(\"Epoch : {:03d}, Training: Loss: {:.4f}, Accuracy: {:.4f}%, \\n\\t\\tValidation : Loss : {:.4f}, Accuracy: {:.4f}%, Time: {:.4f}s\".format(epoch, avg_train_loss, avg_train_acc*100, avg_test_loss, avg_test_acc*100, epoch_end-epoch_start))\n",
        "      \n",
        "            \n",
        "    return model, history"
      ],
      "metadata": {
        "id": "rm-ieTCUJHbF"
      },
      "execution_count": 9,
      "outputs": []
    },
    {
      "cell_type": "code",
      "source": [
        "num_epochs = 30\n",
        "trained_model, history = train_and_validate(model, criterion, optimizer, num_epochs)"
      ],
      "metadata": {
        "id": "dp5cv-2wJHVk",
        "colab": {
          "base_uri": "https://localhost:8080/"
        },
        "outputId": "f7178b5f-cb71-4c0d-b957-3de4693bf526"
      },
      "execution_count": 10,
      "outputs": [
        {
          "output_type": "stream",
          "name": "stdout",
          "text": [
            "Epoch: 1/30\n",
            "Epoch : 000, Training: Loss: 2.3143, Accuracy: 0.0000%, \n",
            "\t\tValidation : Loss : 2.3017, Accuracy: 0.0000%, Time: 97.8965s\n",
            "Epoch: 2/30\n",
            "Epoch : 001, Training: Loss: 2.2890, Accuracy: 0.0000%, \n",
            "\t\tValidation : Loss : 2.2686, Accuracy: 0.0000%, Time: 13.8715s\n",
            "Epoch: 3/30\n",
            "Epoch : 002, Training: Loss: 2.2505, Accuracy: 0.3984%, \n",
            "\t\tValidation : Loss : 2.2264, Accuracy: 4.5455%, Time: 13.9020s\n",
            "Epoch: 4/30\n",
            "Epoch : 003, Training: Loss: 2.2032, Accuracy: 25.0996%, \n",
            "\t\tValidation : Loss : 2.1759, Accuracy: 27.2727%, Time: 13.7463s\n",
            "Epoch: 5/30\n",
            "Epoch : 004, Training: Loss: 2.1461, Accuracy: 42.6295%, \n",
            "\t\tValidation : Loss : 2.1127, Accuracy: 39.3939%, Time: 13.7672s\n",
            "Epoch: 6/30\n",
            "Epoch : 005, Training: Loss: 2.0728, Accuracy: 44.2231%, \n",
            "\t\tValidation : Loss : 2.0282, Accuracy: 39.3939%, Time: 13.6551s\n",
            "Epoch: 7/30\n",
            "Epoch : 006, Training: Loss: 1.9708, Accuracy: 44.2231%, \n",
            "\t\tValidation : Loss : 1.9074, Accuracy: 39.3939%, Time: 13.7223s\n",
            "Epoch: 8/30\n",
            "Epoch : 007, Training: Loss: 1.8231, Accuracy: 44.2231%, \n",
            "\t\tValidation : Loss : 1.7298, Accuracy: 39.3939%, Time: 13.6918s\n",
            "Epoch: 9/30\n",
            "Epoch : 008, Training: Loss: 1.6123, Accuracy: 44.2231%, \n",
            "\t\tValidation : Loss : 1.5033, Accuracy: 39.3939%, Time: 13.9543s\n",
            "Epoch: 10/30\n",
            "Epoch : 009, Training: Loss: 1.3839, Accuracy: 44.2231%, \n",
            "\t\tValidation : Loss : 1.3103, Accuracy: 39.3939%, Time: 14.0834s\n",
            "Epoch: 11/30\n",
            "Epoch : 010, Training: Loss: 1.2128, Accuracy: 44.2231%, \n",
            "\t\tValidation : Loss : 1.1672, Accuracy: 39.3939%, Time: 14.1437s\n",
            "Epoch: 12/30\n",
            "Epoch : 011, Training: Loss: 1.0997, Accuracy: 44.6215%, \n",
            "\t\tValidation : Loss : 1.0816, Accuracy: 50.0000%, Time: 13.7311s\n",
            "Epoch: 13/30\n",
            "Epoch : 012, Training: Loss: 1.0497, Accuracy: 61.3546%, \n",
            "\t\tValidation : Loss : 1.0459, Accuracy: 59.0909%, Time: 13.6378s\n",
            "Epoch: 14/30\n",
            "Epoch : 013, Training: Loss: 1.0193, Accuracy: 49.0040%, \n",
            "\t\tValidation : Loss : 1.0281, Accuracy: 40.9091%, Time: 13.6397s\n",
            "Epoch: 15/30\n",
            "Epoch : 014, Training: Loss: 0.9823, Accuracy: 52.9880%, \n",
            "\t\tValidation : Loss : 0.9899, Accuracy: 60.6061%, Time: 13.8073s\n",
            "Epoch: 16/30\n",
            "Epoch : 015, Training: Loss: 0.9571, Accuracy: 60.1594%, \n",
            "\t\tValidation : Loss : 0.9618, Accuracy: 53.0303%, Time: 15.5020s\n",
            "Epoch: 17/30\n",
            "Epoch : 016, Training: Loss: 0.9187, Accuracy: 66.1355%, \n",
            "\t\tValidation : Loss : 0.9281, Accuracy: 62.1212%, Time: 17.6871s\n",
            "Epoch: 18/30\n",
            "Epoch : 017, Training: Loss: 0.8763, Accuracy: 71.7131%, \n",
            "\t\tValidation : Loss : 0.8907, Accuracy: 62.1212%, Time: 13.7828s\n",
            "Epoch: 19/30\n",
            "Epoch : 018, Training: Loss: 0.8429, Accuracy: 67.7291%, \n",
            "\t\tValidation : Loss : 0.8472, Accuracy: 63.6364%, Time: 15.0731s\n",
            "Epoch: 20/30\n",
            "Epoch : 019, Training: Loss: 0.7981, Accuracy: 78.8845%, \n",
            "\t\tValidation : Loss : 0.8036, Accuracy: 69.6970%, Time: 13.8106s\n",
            "Epoch: 21/30\n",
            "Epoch : 020, Training: Loss: 0.7560, Accuracy: 71.7131%, \n",
            "\t\tValidation : Loss : 0.7661, Accuracy: 63.6364%, Time: 13.7031s\n",
            "Epoch: 22/30\n",
            "Epoch : 021, Training: Loss: 0.6905, Accuracy: 87.6494%, \n",
            "\t\tValidation : Loss : 0.7151, Accuracy: 78.7879%, Time: 13.7311s\n",
            "Epoch: 23/30\n",
            "Epoch : 022, Training: Loss: 0.6594, Accuracy: 81.6733%, \n",
            "\t\tValidation : Loss : 0.6713, Accuracy: 68.1818%, Time: 13.4848s\n",
            "Epoch: 24/30\n",
            "Epoch : 023, Training: Loss: 0.5986, Accuracy: 85.6574%, \n",
            "\t\tValidation : Loss : 0.6460, Accuracy: 68.1818%, Time: 13.6755s\n",
            "Epoch: 25/30\n",
            "Epoch : 024, Training: Loss: 0.5565, Accuracy: 85.6574%, \n",
            "\t\tValidation : Loss : 0.6043, Accuracy: 66.6667%, Time: 13.7072s\n",
            "Epoch: 26/30\n",
            "Epoch : 025, Training: Loss: 0.5270, Accuracy: 84.8606%, \n",
            "\t\tValidation : Loss : 0.5987, Accuracy: 78.7879%, Time: 13.8202s\n",
            "Epoch: 27/30\n",
            "Epoch : 026, Training: Loss: 0.5119, Accuracy: 83.6653%, \n",
            "\t\tValidation : Loss : 0.5774, Accuracy: 68.1818%, Time: 13.7161s\n",
            "Epoch: 28/30\n",
            "Epoch : 027, Training: Loss: 0.4499, Accuracy: 86.8526%, \n",
            "\t\tValidation : Loss : 0.5397, Accuracy: 87.8788%, Time: 13.6696s\n",
            "Epoch: 29/30\n",
            "Epoch : 028, Training: Loss: 0.4388, Accuracy: 86.0558%, \n",
            "\t\tValidation : Loss : 0.5012, Accuracy: 78.7879%, Time: 13.9906s\n",
            "Epoch: 30/30\n",
            "Epoch : 029, Training: Loss: 0.4193, Accuracy: 86.0558%, \n",
            "\t\tValidation : Loss : 0.4978, Accuracy: 72.7273%, Time: 13.7038s\n"
          ]
        }
      ]
    },
    {
      "cell_type": "code",
      "source": [
        "# 5. Analyze the loss curve after we added the number of epochs\n",
        "\n",
        "history = np.array(history)\n",
        "plt.plot(history[:,0:2])\n",
        "plt.legend(['Tr Loss', 'Val Loss'])\n",
        "plt.xlabel('Epoch Number')\n",
        "plt.ylabel('Loss')\n",
        "plt.ylim(0,3)\n",
        "# plt.savefig('cifar10_loss_curve.png')\n",
        "plt.show()"
      ],
      "metadata": {
        "id": "h0yTZd3tRhhq",
        "colab": {
          "base_uri": "https://localhost:8080/",
          "height": 283
        },
        "outputId": "64fac32b-b654-4248-c7bf-f6c85a902318"
      },
      "execution_count": 11,
      "outputs": [
        {
          "output_type": "display_data",
          "data": {
            "text/plain": [
              "<Figure size 432x288 with 1 Axes>"
            ],
            "image/png": "[encoded data removed]"
          },
          "metadata": {
            "needs_background": "light"
          }
        }
      ]
    },
    {
      "cell_type": "code",
      "source": [
        "# 6. Analyze the accuracy curve\n",
        "\n",
        "plt.plot(history[:,2:4])\n",
        "plt.legend(['Tr Accuracy', 'Val Accuracy'])\n",
        "plt.xlabel('Epoch Number')\n",
        "plt.ylabel('Accuracy')\n",
        "plt.ylim(0,1)\n",
        "# plt.savefig('cifar10_accuracy_curve.png')\n",
        "plt.show()"
      ],
      "metadata": {
        "id": "WgUNaViTRhUa",
        "colab": {
          "base_uri": "https://localhost:8080/",
          "height": 283
        },
        "outputId": "f513e04f-4578-4b87-88ce-d2dd6fd01e43"
      },
      "execution_count": 12,
      "outputs": [
        {
          "output_type": "display_data",
          "data": {
            "text/plain": [
              "<Figure size 432x288 with 1 Axes>"
            ],
            "image/png": "[encoded data removed]"
          },
          "metadata": {
            "needs_background": "light"
          }
        }
      ]
    },
    {
      "cell_type": "code",
      "source": [
        "correct = 0\n",
        "total = 0\n",
        "# since we're not training, we don't need to calculate the gradients for our outputs\n",
        "with torch.no_grad():\n",
        "    for data in testloader:\n",
        "#         images, labels = data\n",
        "        images, labels = data[0].to(device), data[1].to(device)\n",
        "        # calculate outputs by running images through the network\n",
        "#         images = images.view(images.size(0), -1)\n",
        "        outputs = model(images)\n",
        "        # the class with the highest energy is what we choose as prediction\n",
        "        _, predicted = torch.max(outputs.data, 1)\n",
        "        total += labels.size(0)\n",
        "        correct += (predicted == labels).sum().item()\n",
        "\n",
        "print(f'Accuracy of the network on the 10000 test images: {100 * correct // total} %')"
      ],
      "metadata": {
        "id": "yJLPaHkvRt6a",
        "colab": {
          "base_uri": "https://localhost:8080/"
        },
        "outputId": "6e567ead-45e4-4a87-f9ab-e19e2c29f221"
      },
      "execution_count": 13,
      "outputs": [
        {
          "output_type": "stream",
          "name": "stdout",
          "text": [
            "Accuracy of the network on the 10000 test images: 72 %\n"
          ]
        }
      ]
    },
    {
      "cell_type": "code",
      "source": [
        "# prepare to count predictions for each class\n",
        "correct_pred = {classname: 0 for classname in classes}\n",
        "total_pred = {classname: 0 for classname in classes}\n",
        "\n",
        "# again no gradients needed\n",
        "with torch.no_grad():\n",
        "    for data in testloader:\n",
        "        images, labels = data[0].to(device), data[1].to(device)\n",
        "#         images = images.view(images.size(0), -1)\n",
        "        outputs = model(images)\n",
        "        _, predictions = torch.max(outputs, 1)\n",
        "        # collect the correct predictions for each class\n",
        "        for label, prediction in zip(labels, predictions):\n",
        "            if label == prediction:\n",
        "                correct_pred[classes[label]] += 1\n",
        "            total_pred[classes[label]] += 1\n",
        "\n",
        "\n",
        "# print accuracy for each class\n",
        "for classname, correct_count in correct_pred.items():\n",
        "    accuracy = 100 * float(correct_count) / total_pred[classname]\n",
        "    print(f'Accuracy for class: {classname:5s} is {accuracy:.1f} %')"
      ],
      "metadata": {
        "id": "4oz6vtWHRwIJ",
        "colab": {
          "base_uri": "https://localhost:8080/"
        },
        "outputId": "4ea269f4-d286-46c4-d80a-68d51dc3bd08"
      },
      "execution_count": 14,
      "outputs": [
        {
          "output_type": "stream",
          "name": "stdout",
          "text": [
            "Accuracy for class: Normal is 92.3 %\n",
            "Accuracy for class: Covid is 35.0 %\n",
            "Accuracy for class: Viral Pneumonia is 85.0 %\n"
          ]
        }
      ]
    },
    {
      "cell_type": "code",
      "source": [
        "from sklearn.metrics import confusion_matrix\n",
        "import seaborn as sn\n",
        "import pandas as pd\n",
        "\n",
        "y_pred = []\n",
        "y_true = []\n",
        "\n",
        "model.to('cpu')\n",
        "\n",
        "# iterate over test data\n",
        "for inputs, labels in testloader:\n",
        "#         #reshape images so they can be fed to a nn.Linear()\n",
        "#         inputs = inputs.view(inputs.size(0), -1)\n",
        "        output = model(inputs) # Feed Network\n",
        "\n",
        "        output = (torch.max(torch.exp(output), 1)[1]).data.cpu().numpy()\n",
        "        y_pred.extend(output) # Save Prediction\n",
        "        \n",
        "        labels = labels.data.cpu().numpy()\n",
        "        y_true.extend(labels) # Save Truth\n",
        "\n",
        "# constant for classes\n",
        "classes = ('Normal', 'Covid', 'Viral Pneumonia')\n",
        "\n",
        "# Build confusion matrix\n",
        "cf_matrix = confusion_matrix(y_true, y_pred)\n",
        "df_cm = pd.DataFrame(cf_matrix/np.sum(cf_matrix) *10, index = [i for i in classes],\n",
        "                     columns = [i for i in classes])\n",
        "plt.figure(figsize = (20,10))\n",
        "sn.heatmap(df_cm, annot=True)\n",
        "# plt.savefig('output.png')"
      ],
      "metadata": {
        "id": "Hdthi5m0RyC5",
        "colab": {
          "base_uri": "https://localhost:8080/",
          "height": 609
        },
        "outputId": "b21c7e81-1657-41b4-e3a6-7f2ddcd1aa34"
      },
      "execution_count": 15,
      "outputs": [
        {
          "output_type": "execute_result",
          "data": {
            "text/plain": [
              "<matplotlib.axes._subplots.AxesSubplot at 0x7f9d5033eb50>"
            ]
          },
          "metadata": {},
          "execution_count": 15
        },
        {
          "output_type": "display_data",
          "data": {
            "text/plain": [
              "<Figure size 1440x720 with 2 Axes>"
            ],
            "image/png": "[encoded data removed]"
          },
          "metadata": {
            "needs_background": "light"
          }
        }
      ]
    },
    {
      "cell_type": "code",
      "source": [],
      "metadata": {
        "id": "jhVP3f9pR1ah"
      },
      "execution_count": 15,
      "outputs": []
    }
  ]
}